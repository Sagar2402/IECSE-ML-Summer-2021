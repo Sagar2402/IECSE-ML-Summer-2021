{
  "nbformat": 4,
  "nbformat_minor": 0,
  "metadata": {
    "colab": {
      "name": "titanic_trial1.ipynb",
      "provenance": []
    },
    "kernelspec": {
      "name": "python3",
      "display_name": "Python 3"
    },
    "language_info": {
      "name": "python"
    }
  },
  "cells": [
    {
      "cell_type": "code",
      "metadata": {
        "id": "CWiMeMc2sGj9"
      },
      "source": [
        "import pandas as pd\n",
        "import matplotlib.pyplot as plt\n",
        "import numpy as np\n",
        "from sklearn.model_selection import train_test_split"
      ],
      "execution_count": 177,
      "outputs": []
    },
    {
      "cell_type": "code",
      "metadata": {
        "id": "A7dATXlGvbTk"
      },
      "source": [
        "data = pd.read_csv (r'/content/titanic.csv')\n",
        "# data.info()\n",
        "# data.dropna(inplace=True) #dropping na values"
      ],
      "execution_count": 178,
      "outputs": []
    },
    {
      "cell_type": "code",
      "metadata": {
        "colab": {
          "base_uri": "https://localhost:8080/",
          "height": 203
        },
        "id": "34o7Ghcavgid",
        "outputId": "317bf9f9-e5f7-4a08-c2d7-62b5643a5676"
      },
      "source": [
        "data.head()"
      ],
      "execution_count": 179,
      "outputs": [
        {
          "output_type": "execute_result",
          "data": {
            "text/html": [
              "<div>\n",
              "<style scoped>\n",
              "    .dataframe tbody tr th:only-of-type {\n",
              "        vertical-align: middle;\n",
              "    }\n",
              "\n",
              "    .dataframe tbody tr th {\n",
              "        vertical-align: top;\n",
              "    }\n",
              "\n",
              "    .dataframe thead th {\n",
              "        text-align: right;\n",
              "    }\n",
              "</style>\n",
              "<table border=\"1\" class=\"dataframe\">\n",
              "  <thead>\n",
              "    <tr style=\"text-align: right;\">\n",
              "      <th></th>\n",
              "      <th>survived</th>\n",
              "      <th>pclass</th>\n",
              "      <th>name</th>\n",
              "      <th>sex</th>\n",
              "      <th>age</th>\n",
              "      <th>sibsp</th>\n",
              "      <th>parch</th>\n",
              "      <th>ticket</th>\n",
              "      <th>fare</th>\n",
              "      <th>cabin</th>\n",
              "      <th>embarked</th>\n",
              "    </tr>\n",
              "  </thead>\n",
              "  <tbody>\n",
              "    <tr>\n",
              "      <th>0</th>\n",
              "      <td>0</td>\n",
              "      <td>3</td>\n",
              "      <td>Braund, Mr. Owen Harris</td>\n",
              "      <td>male</td>\n",
              "      <td>22.0</td>\n",
              "      <td>1</td>\n",
              "      <td>0</td>\n",
              "      <td>A/5 21171</td>\n",
              "      <td>7.2500</td>\n",
              "      <td>NaN</td>\n",
              "      <td>S</td>\n",
              "    </tr>\n",
              "    <tr>\n",
              "      <th>1</th>\n",
              "      <td>1</td>\n",
              "      <td>1</td>\n",
              "      <td>Cumings, Mrs. John Bradley (Florence Briggs Th...</td>\n",
              "      <td>female</td>\n",
              "      <td>38.0</td>\n",
              "      <td>1</td>\n",
              "      <td>0</td>\n",
              "      <td>PC 17599</td>\n",
              "      <td>71.2833</td>\n",
              "      <td>C85</td>\n",
              "      <td>C</td>\n",
              "    </tr>\n",
              "    <tr>\n",
              "      <th>2</th>\n",
              "      <td>1</td>\n",
              "      <td>3</td>\n",
              "      <td>Heikkinen, Miss. Laina</td>\n",
              "      <td>female</td>\n",
              "      <td>26.0</td>\n",
              "      <td>0</td>\n",
              "      <td>0</td>\n",
              "      <td>STON/O2. 3101282</td>\n",
              "      <td>7.9250</td>\n",
              "      <td>NaN</td>\n",
              "      <td>S</td>\n",
              "    </tr>\n",
              "    <tr>\n",
              "      <th>3</th>\n",
              "      <td>1</td>\n",
              "      <td>1</td>\n",
              "      <td>Futrelle, Mrs. Jacques Heath (Lily May Peel)</td>\n",
              "      <td>female</td>\n",
              "      <td>35.0</td>\n",
              "      <td>1</td>\n",
              "      <td>0</td>\n",
              "      <td>113803</td>\n",
              "      <td>53.1000</td>\n",
              "      <td>C123</td>\n",
              "      <td>S</td>\n",
              "    </tr>\n",
              "    <tr>\n",
              "      <th>4</th>\n",
              "      <td>0</td>\n",
              "      <td>3</td>\n",
              "      <td>Allen, Mr. William Henry</td>\n",
              "      <td>male</td>\n",
              "      <td>35.0</td>\n",
              "      <td>0</td>\n",
              "      <td>0</td>\n",
              "      <td>373450</td>\n",
              "      <td>8.0500</td>\n",
              "      <td>NaN</td>\n",
              "      <td>S</td>\n",
              "    </tr>\n",
              "  </tbody>\n",
              "</table>\n",
              "</div>"
            ],
            "text/plain": [
              "   survived  pclass  ... cabin embarked\n",
              "0         0       3  ...   NaN        S\n",
              "1         1       1  ...   C85        C\n",
              "2         1       3  ...   NaN        S\n",
              "3         1       1  ...  C123        S\n",
              "4         0       3  ...   NaN        S\n",
              "\n",
              "[5 rows x 11 columns]"
            ]
          },
          "metadata": {
            "tags": []
          },
          "execution_count": 179
        }
      ]
    },
    {
      "cell_type": "code",
      "metadata": {
        "colab": {
          "base_uri": "https://localhost:8080/"
        },
        "id": "qXntcctrvj48",
        "outputId": "c415fb03-f1ca-472e-a73f-7c4caa64643f"
      },
      "source": [
        "data.info()"
      ],
      "execution_count": 180,
      "outputs": [
        {
          "output_type": "stream",
          "text": [
            "<class 'pandas.core.frame.DataFrame'>\n",
            "RangeIndex: 891 entries, 0 to 890\n",
            "Data columns (total 11 columns):\n",
            " #   Column    Non-Null Count  Dtype  \n",
            "---  ------    --------------  -----  \n",
            " 0   survived  891 non-null    int64  \n",
            " 1   pclass    891 non-null    int64  \n",
            " 2   name      891 non-null    object \n",
            " 3   sex       891 non-null    object \n",
            " 4   age       714 non-null    float64\n",
            " 5   sibsp     891 non-null    int64  \n",
            " 6   parch     891 non-null    int64  \n",
            " 7   ticket    891 non-null    object \n",
            " 8   fare      891 non-null    float64\n",
            " 9   cabin     204 non-null    object \n",
            " 10  embarked  889 non-null    object \n",
            "dtypes: float64(2), int64(4), object(5)\n",
            "memory usage: 76.7+ KB\n"
          ],
          "name": "stdout"
        }
      ]
    },
    {
      "cell_type": "code",
      "metadata": {
        "colab": {
          "base_uri": "https://localhost:8080/",
          "height": 734
        },
        "id": "gNz738OTwt9t",
        "outputId": "56063f51-bc18-4ed2-dc01-de99bf0f8721"
      },
      "source": [
        "# import libraries to help visualize data\n",
        "pd.plotting.register_matplotlib_converters()\n",
        "import matplotlib.pyplot as plt\n",
        "%matplotlib inline\n",
        "import seaborn as sns\n",
        "\n",
        "\n",
        "g = sns.pairplot(data=data, hue='survived',\n",
        "                 height=2,diag_kind = 'kde',plot_kws=dict(s=10) )\n",
        "g.set(xticklabels=[])"
      ],
      "execution_count": 181,
      "outputs": [
        {
          "output_type": "execute_result",
          "data": {
            "text/plain": [
              "<seaborn.axisgrid.PairGrid at 0x7f05d5ab9510>"
            ]
          },
          "metadata": {
            "tags": []
          },
          "execution_count": 181
        },
        {
          "output_type": "display_data",
          "data": {
            "image/png": "[encoded data removed]",
            "text/plain": [
              "<Figure size 770.875x720 with 30 Axes>"
            ]
          },
          "metadata": {
            "tags": [],
            "needs_background": "light"
          }
        }
      ]
    },
    {
      "cell_type": "code",
      "metadata": {
        "colab": {
          "base_uri": "https://localhost:8080/"
        },
        "id": "QEGniu3EybG0",
        "outputId": "7d04a333-955a-4013-fa07-b61dff72cc2f"
      },
      "source": [
        "data.isnull().sum()"
      ],
      "execution_count": 182,
      "outputs": [
        {
          "output_type": "execute_result",
          "data": {
            "text/plain": [
              "survived      0\n",
              "pclass        0\n",
              "name          0\n",
              "sex           0\n",
              "age         177\n",
              "sibsp         0\n",
              "parch         0\n",
              "ticket        0\n",
              "fare          0\n",
              "cabin       687\n",
              "embarked      2\n",
              "dtype: int64"
            ]
          },
          "metadata": {
            "tags": []
          },
          "execution_count": 182
        }
      ]
    },
    {
      "cell_type": "code",
      "metadata": {
        "id": "jeitQGia0IEq"
      },
      "source": [
        "def cabin_to_level(cabin):\n",
        "    cabin=str(cabin)\n",
        "    if(cabin=='nan'):\n",
        "        return \"nan\"\n",
        "    else:\n",
        "        return cabin[0]\n",
        "\n",
        "data['Level']=data['cabin'].apply(cabin_to_level)\n"
      ],
      "execution_count": 183,
      "outputs": []
    },
    {
      "cell_type": "code",
      "metadata": {
        "colab": {
          "base_uri": "https://localhost:8080/"
        },
        "id": "Lk6Jzn_K1WXb",
        "outputId": "0ea04bf4-8765-4439-e5d0-be9f512b2201"
      },
      "source": [
        "data['Level'].value_counts()"
      ],
      "execution_count": 184,
      "outputs": [
        {
          "output_type": "execute_result",
          "data": {
            "text/plain": [
              "nan    687\n",
              "C       59\n",
              "B       47\n",
              "D       33\n",
              "E       32\n",
              "A       15\n",
              "F       13\n",
              "G        4\n",
              "T        1\n",
              "Name: Level, dtype: int64"
            ]
          },
          "metadata": {
            "tags": []
          },
          "execution_count": 184
        }
      ]
    },
    {
      "cell_type": "code",
      "metadata": {
        "colab": {
          "base_uri": "https://localhost:8080/"
        },
        "id": "-U6xmNUUu7J_",
        "outputId": "9799a6b6-d9a7-437c-cb8d-2e9125811189"
      },
      "source": [
        "survivedtrue = data[(data['survived']==1)]\n",
        "print(survivedtrue['Level'].value_counts())\n",
        "data['embarked'].value_counts()"
      ],
      "execution_count": 185,
      "outputs": [
        {
          "output_type": "stream",
          "text": [
            "nan    206\n",
            "B       35\n",
            "C       35\n",
            "D       25\n",
            "E       24\n",
            "F        8\n",
            "A        7\n",
            "G        2\n",
            "Name: Level, dtype: int64\n"
          ],
          "name": "stdout"
        },
        {
          "output_type": "execute_result",
          "data": {
            "text/plain": [
              "S    644\n",
              "C    168\n",
              "Q     77\n",
              "Name: embarked, dtype: int64"
            ]
          },
          "metadata": {
            "tags": []
          },
          "execution_count": 185
        }
      ]
    },
    {
      "cell_type": "code",
      "metadata": {
        "id": "30S0-qlTPIXy"
      },
      "source": [
        "# As C is the most frequent deck, converting the nan values to C in order to not lose data.\n",
        "level_frequent = 'C'\n",
        "def nan_level(cabin):\n",
        "    cabin=str(cabin)\n",
        "    if(cabin=='nan'):\n",
        "        return level_frequent\n",
        "    else:\n",
        "      return cabin\n",
        "\n",
        "data['Level']=data['Level'].apply(nan_level)\n",
        "# Replacing two missing embarked values with S\n",
        "\n",
        "def nan_embarked(embarked):\n",
        "    embarked=str(embarked)\n",
        "    if(embarked=='nan'):\n",
        "        return 'S'\n",
        "    else:\n",
        "      return embarked\n",
        "\n",
        "data['Level']=data['Level'].apply(nan_level)\n",
        "data['embarked']=data['embarked'].apply(nan_embarked)\n",
        "\n",
        "\n"
      ],
      "execution_count": 186,
      "outputs": []
    },
    {
      "cell_type": "code",
      "metadata": {
        "colab": {
          "base_uri": "https://localhost:8080/"
        },
        "id": "R73c3khNQH0I",
        "outputId": "3b2cf7d6-6330-44b4-df92-79fc3d038164"
      },
      "source": [
        "print(data['embarked'].value_counts())\n",
        "data['Level'].value_counts()"
      ],
      "execution_count": 187,
      "outputs": [
        {
          "output_type": "stream",
          "text": [
            "S    646\n",
            "C    168\n",
            "Q     77\n",
            "Name: embarked, dtype: int64\n"
          ],
          "name": "stdout"
        },
        {
          "output_type": "execute_result",
          "data": {
            "text/plain": [
              "C    746\n",
              "B     47\n",
              "D     33\n",
              "E     32\n",
              "A     15\n",
              "F     13\n",
              "G      4\n",
              "T      1\n",
              "Name: Level, dtype: int64"
            ]
          },
          "metadata": {
            "tags": []
          },
          "execution_count": 187
        }
      ]
    },
    {
      "cell_type": "code",
      "metadata": {
        "colab": {
          "base_uri": "https://localhost:8080/"
        },
        "id": "O-Xy5KHCSWgH",
        "outputId": "f617e7cf-89aa-4ee9-a85e-1e4210963564"
      },
      "source": [
        "data.info()"
      ],
      "execution_count": 188,
      "outputs": [
        {
          "output_type": "stream",
          "text": [
            "<class 'pandas.core.frame.DataFrame'>\n",
            "RangeIndex: 891 entries, 0 to 890\n",
            "Data columns (total 12 columns):\n",
            " #   Column    Non-Null Count  Dtype  \n",
            "---  ------    --------------  -----  \n",
            " 0   survived  891 non-null    int64  \n",
            " 1   pclass    891 non-null    int64  \n",
            " 2   name      891 non-null    object \n",
            " 3   sex       891 non-null    object \n",
            " 4   age       714 non-null    float64\n",
            " 5   sibsp     891 non-null    int64  \n",
            " 6   parch     891 non-null    int64  \n",
            " 7   ticket    891 non-null    object \n",
            " 8   fare      891 non-null    float64\n",
            " 9   cabin     204 non-null    object \n",
            " 10  embarked  891 non-null    object \n",
            " 11  Level     891 non-null    object \n",
            "dtypes: float64(2), int64(4), object(6)\n",
            "memory usage: 83.7+ KB\n"
          ],
          "name": "stdout"
        }
      ]
    },
    {
      "cell_type": "code",
      "metadata": {
        "id": "Ty2dDCqoS6BF"
      },
      "source": [
        "data = data.drop(labels ='cabin', axis = 1)"
      ],
      "execution_count": 189,
      "outputs": []
    },
    {
      "cell_type": "code",
      "metadata": {
        "colab": {
          "base_uri": "https://localhost:8080/"
        },
        "id": "soQP9nGbTaG-",
        "outputId": "c7278a0a-3e89-4fb8-f65b-834a6b690a5a"
      },
      "source": [
        "data.info()\n",
        "print(data.shape)"
      ],
      "execution_count": 190,
      "outputs": [
        {
          "output_type": "stream",
          "text": [
            "<class 'pandas.core.frame.DataFrame'>\n",
            "RangeIndex: 891 entries, 0 to 890\n",
            "Data columns (total 11 columns):\n",
            " #   Column    Non-Null Count  Dtype  \n",
            "---  ------    --------------  -----  \n",
            " 0   survived  891 non-null    int64  \n",
            " 1   pclass    891 non-null    int64  \n",
            " 2   name      891 non-null    object \n",
            " 3   sex       891 non-null    object \n",
            " 4   age       714 non-null    float64\n",
            " 5   sibsp     891 non-null    int64  \n",
            " 6   parch     891 non-null    int64  \n",
            " 7   ticket    891 non-null    object \n",
            " 8   fare      891 non-null    float64\n",
            " 9   embarked  891 non-null    object \n",
            " 10  Level     891 non-null    object \n",
            "dtypes: float64(2), int64(4), object(5)\n",
            "memory usage: 76.7+ KB\n",
            "(891, 11)\n"
          ],
          "name": "stdout"
        }
      ]
    },
    {
      "cell_type": "code",
      "metadata": {
        "colab": {
          "base_uri": "https://localhost:8080/"
        },
        "id": "LDNXQoW1TuDV",
        "outputId": "39c11652-6c96-4122-c677-25cef1e771a3"
      },
      "source": [
        "data = data.dropna()\n",
        "data.info()\n",
        "print(data.shape)"
      ],
      "execution_count": 191,
      "outputs": [
        {
          "output_type": "stream",
          "text": [
            "<class 'pandas.core.frame.DataFrame'>\n",
            "Int64Index: 714 entries, 0 to 890\n",
            "Data columns (total 11 columns):\n",
            " #   Column    Non-Null Count  Dtype  \n",
            "---  ------    --------------  -----  \n",
            " 0   survived  714 non-null    int64  \n",
            " 1   pclass    714 non-null    int64  \n",
            " 2   name      714 non-null    object \n",
            " 3   sex       714 non-null    object \n",
            " 4   age       714 non-null    float64\n",
            " 5   sibsp     714 non-null    int64  \n",
            " 6   parch     714 non-null    int64  \n",
            " 7   ticket    714 non-null    object \n",
            " 8   fare      714 non-null    float64\n",
            " 9   embarked  714 non-null    object \n",
            " 10  Level     714 non-null    object \n",
            "dtypes: float64(2), int64(4), object(5)\n",
            "memory usage: 66.9+ KB\n",
            "(714, 11)\n"
          ],
          "name": "stdout"
        }
      ]
    },
    {
      "cell_type": "code",
      "metadata": {
        "colab": {
          "base_uri": "https://localhost:8080/",
          "height": 203
        },
        "id": "QnweGCImT8I2",
        "outputId": "a3cfad12-f856-4aa2-eb34-1d05a568a76b"
      },
      "source": [
        "data.head()"
      ],
      "execution_count": 192,
      "outputs": [
        {
          "output_type": "execute_result",
          "data": {
            "text/html": [
              "<div>\n",
              "<style scoped>\n",
              "    .dataframe tbody tr th:only-of-type {\n",
              "        vertical-align: middle;\n",
              "    }\n",
              "\n",
              "    .dataframe tbody tr th {\n",
              "        vertical-align: top;\n",
              "    }\n",
              "\n",
              "    .dataframe thead th {\n",
              "        text-align: right;\n",
              "    }\n",
              "</style>\n",
              "<table border=\"1\" class=\"dataframe\">\n",
              "  <thead>\n",
              "    <tr style=\"text-align: right;\">\n",
              "      <th></th>\n",
              "      <th>survived</th>\n",
              "      <th>pclass</th>\n",
              "      <th>name</th>\n",
              "      <th>sex</th>\n",
              "      <th>age</th>\n",
              "      <th>sibsp</th>\n",
              "      <th>parch</th>\n",
              "      <th>ticket</th>\n",
              "      <th>fare</th>\n",
              "      <th>embarked</th>\n",
              "      <th>Level</th>\n",
              "    </tr>\n",
              "  </thead>\n",
              "  <tbody>\n",
              "    <tr>\n",
              "      <th>0</th>\n",
              "      <td>0</td>\n",
              "      <td>3</td>\n",
              "      <td>Braund, Mr. Owen Harris</td>\n",
              "      <td>male</td>\n",
              "      <td>22.0</td>\n",
              "      <td>1</td>\n",
              "      <td>0</td>\n",
              "      <td>A/5 21171</td>\n",
              "      <td>7.2500</td>\n",
              "      <td>S</td>\n",
              "      <td>C</td>\n",
              "    </tr>\n",
              "    <tr>\n",
              "      <th>1</th>\n",
              "      <td>1</td>\n",
              "      <td>1</td>\n",
              "      <td>Cumings, Mrs. John Bradley (Florence Briggs Th...</td>\n",
              "      <td>female</td>\n",
              "      <td>38.0</td>\n",
              "      <td>1</td>\n",
              "      <td>0</td>\n",
              "      <td>PC 17599</td>\n",
              "      <td>71.2833</td>\n",
              "      <td>C</td>\n",
              "      <td>C</td>\n",
              "    </tr>\n",
              "    <tr>\n",
              "      <th>2</th>\n",
              "      <td>1</td>\n",
              "      <td>3</td>\n",
              "      <td>Heikkinen, Miss. Laina</td>\n",
              "      <td>female</td>\n",
              "      <td>26.0</td>\n",
              "      <td>0</td>\n",
              "      <td>0</td>\n",
              "      <td>STON/O2. 3101282</td>\n",
              "      <td>7.9250</td>\n",
              "      <td>S</td>\n",
              "      <td>C</td>\n",
              "    </tr>\n",
              "    <tr>\n",
              "      <th>3</th>\n",
              "      <td>1</td>\n",
              "      <td>1</td>\n",
              "      <td>Futrelle, Mrs. Jacques Heath (Lily May Peel)</td>\n",
              "      <td>female</td>\n",
              "      <td>35.0</td>\n",
              "      <td>1</td>\n",
              "      <td>0</td>\n",
              "      <td>113803</td>\n",
              "      <td>53.1000</td>\n",
              "      <td>S</td>\n",
              "      <td>C</td>\n",
              "    </tr>\n",
              "    <tr>\n",
              "      <th>4</th>\n",
              "      <td>0</td>\n",
              "      <td>3</td>\n",
              "      <td>Allen, Mr. William Henry</td>\n",
              "      <td>male</td>\n",
              "      <td>35.0</td>\n",
              "      <td>0</td>\n",
              "      <td>0</td>\n",
              "      <td>373450</td>\n",
              "      <td>8.0500</td>\n",
              "      <td>S</td>\n",
              "      <td>C</td>\n",
              "    </tr>\n",
              "  </tbody>\n",
              "</table>\n",
              "</div>"
            ],
            "text/plain": [
              "   survived  pclass  ... embarked Level\n",
              "0         0       3  ...        S     C\n",
              "1         1       1  ...        C     C\n",
              "2         1       3  ...        S     C\n",
              "3         1       1  ...        S     C\n",
              "4         0       3  ...        S     C\n",
              "\n",
              "[5 rows x 11 columns]"
            ]
          },
          "metadata": {
            "tags": []
          },
          "execution_count": 192
        }
      ]
    },
    {
      "cell_type": "code",
      "metadata": {
        "id": "xfiws9GqXydJ"
      },
      "source": [
        "#Family members as siblings/spouses + parents/children\n",
        "data['Fam']=data['sibsp']+data['parch']"
      ],
      "execution_count": 193,
      "outputs": []
    },
    {
      "cell_type": "code",
      "metadata": {
        "colab": {
          "base_uri": "https://localhost:8080/"
        },
        "id": "XreApwXgYOWk",
        "outputId": "0432aa24-963f-4243-a086-35d4e6c68336"
      },
      "source": [
        "# To differentiate married and unmarried\n",
        "def display_names(name):\n",
        "    title=name.split(',')[1].split('.')[0].strip()\n",
        "    return title.strip()\n",
        "data['name'].apply(display_names).unique()\n",
        "\n"
      ],
      "execution_count": 194,
      "outputs": [
        {
          "output_type": "execute_result",
          "data": {
            "text/plain": [
              "array(['Mr', 'Mrs', 'Miss', 'Master', 'Don', 'Rev', 'Dr', 'Mme', 'Ms',\n",
              "       'Major', 'Lady', 'Sir', 'Mlle', 'Col', 'Capt', 'the Countess',\n",
              "       'Jonkheer'], dtype=object)"
            ]
          },
          "metadata": {
            "tags": []
          },
          "execution_count": 194
        }
      ]
    },
    {
      "cell_type": "code",
      "metadata": {
        "id": "EPKnfWvCZQz0"
      },
      "source": [
        "data['Prefix'] = data['name'].apply(display_names)\n",
        "\n",
        "def sort(prefix):\n",
        "    if prefix in ['Don', 'Major', 'Jonkheer','Sir', 'Dr', 'Capt', 'Rev', 'Col', 'the Countess', 'Mme', 'Lady', 'Mr', 'Mrs']:\n",
        "        return 'Married'\n",
        "    elif prefix in ['Mlle', 'Ms', 'Master', 'Miss']:\n",
        "        return 'Unmarried'\n",
        "\n",
        "data['marital status']=data['Prefix'].apply(sort)"
      ],
      "execution_count": 195,
      "outputs": []
    },
    {
      "cell_type": "code",
      "metadata": {
        "colab": {
          "base_uri": "https://localhost:8080/",
          "height": 270
        },
        "id": "ERv5cTSdb4Yl",
        "outputId": "fb19bd79-fc0a-4889-ffb9-aaea9821b862"
      },
      "source": [
        "data.head()"
      ],
      "execution_count": 196,
      "outputs": [
        {
          "output_type": "execute_result",
          "data": {
            "text/html": [
              "<div>\n",
              "<style scoped>\n",
              "    .dataframe tbody tr th:only-of-type {\n",
              "        vertical-align: middle;\n",
              "    }\n",
              "\n",
              "    .dataframe tbody tr th {\n",
              "        vertical-align: top;\n",
              "    }\n",
              "\n",
              "    .dataframe thead th {\n",
              "        text-align: right;\n",
              "    }\n",
              "</style>\n",
              "<table border=\"1\" class=\"dataframe\">\n",
              "  <thead>\n",
              "    <tr style=\"text-align: right;\">\n",
              "      <th></th>\n",
              "      <th>survived</th>\n",
              "      <th>pclass</th>\n",
              "      <th>name</th>\n",
              "      <th>sex</th>\n",
              "      <th>age</th>\n",
              "      <th>sibsp</th>\n",
              "      <th>parch</th>\n",
              "      <th>ticket</th>\n",
              "      <th>fare</th>\n",
              "      <th>embarked</th>\n",
              "      <th>Level</th>\n",
              "      <th>Fam</th>\n",
              "      <th>Prefix</th>\n",
              "      <th>marital status</th>\n",
              "    </tr>\n",
              "  </thead>\n",
              "  <tbody>\n",
              "    <tr>\n",
              "      <th>0</th>\n",
              "      <td>0</td>\n",
              "      <td>3</td>\n",
              "      <td>Braund, Mr. Owen Harris</td>\n",
              "      <td>male</td>\n",
              "      <td>22.0</td>\n",
              "      <td>1</td>\n",
              "      <td>0</td>\n",
              "      <td>A/5 21171</td>\n",
              "      <td>7.2500</td>\n",
              "      <td>S</td>\n",
              "      <td>C</td>\n",
              "      <td>1</td>\n",
              "      <td>Mr</td>\n",
              "      <td>Married</td>\n",
              "    </tr>\n",
              "    <tr>\n",
              "      <th>1</th>\n",
              "      <td>1</td>\n",
              "      <td>1</td>\n",
              "      <td>Cumings, Mrs. John Bradley (Florence Briggs Th...</td>\n",
              "      <td>female</td>\n",
              "      <td>38.0</td>\n",
              "      <td>1</td>\n",
              "      <td>0</td>\n",
              "      <td>PC 17599</td>\n",
              "      <td>71.2833</td>\n",
              "      <td>C</td>\n",
              "      <td>C</td>\n",
              "      <td>1</td>\n",
              "      <td>Mrs</td>\n",
              "      <td>Married</td>\n",
              "    </tr>\n",
              "    <tr>\n",
              "      <th>2</th>\n",
              "      <td>1</td>\n",
              "      <td>3</td>\n",
              "      <td>Heikkinen, Miss. Laina</td>\n",
              "      <td>female</td>\n",
              "      <td>26.0</td>\n",
              "      <td>0</td>\n",
              "      <td>0</td>\n",
              "      <td>STON/O2. 3101282</td>\n",
              "      <td>7.9250</td>\n",
              "      <td>S</td>\n",
              "      <td>C</td>\n",
              "      <td>0</td>\n",
              "      <td>Miss</td>\n",
              "      <td>Unmarried</td>\n",
              "    </tr>\n",
              "    <tr>\n",
              "      <th>3</th>\n",
              "      <td>1</td>\n",
              "      <td>1</td>\n",
              "      <td>Futrelle, Mrs. Jacques Heath (Lily May Peel)</td>\n",
              "      <td>female</td>\n",
              "      <td>35.0</td>\n",
              "      <td>1</td>\n",
              "      <td>0</td>\n",
              "      <td>113803</td>\n",
              "      <td>53.1000</td>\n",
              "      <td>S</td>\n",
              "      <td>C</td>\n",
              "      <td>1</td>\n",
              "      <td>Mrs</td>\n",
              "      <td>Married</td>\n",
              "    </tr>\n",
              "    <tr>\n",
              "      <th>4</th>\n",
              "      <td>0</td>\n",
              "      <td>3</td>\n",
              "      <td>Allen, Mr. William Henry</td>\n",
              "      <td>male</td>\n",
              "      <td>35.0</td>\n",
              "      <td>0</td>\n",
              "      <td>0</td>\n",
              "      <td>373450</td>\n",
              "      <td>8.0500</td>\n",
              "      <td>S</td>\n",
              "      <td>C</td>\n",
              "      <td>0</td>\n",
              "      <td>Mr</td>\n",
              "      <td>Married</td>\n",
              "    </tr>\n",
              "  </tbody>\n",
              "</table>\n",
              "</div>"
            ],
            "text/plain": [
              "   survived  pclass  ... Prefix marital status\n",
              "0         0       3  ...     Mr        Married\n",
              "1         1       1  ...    Mrs        Married\n",
              "2         1       3  ...   Miss      Unmarried\n",
              "3         1       1  ...    Mrs        Married\n",
              "4         0       3  ...     Mr        Married\n",
              "\n",
              "[5 rows x 14 columns]"
            ]
          },
          "metadata": {
            "tags": []
          },
          "execution_count": 196
        }
      ]
    },
    {
      "cell_type": "code",
      "metadata": {
        "id": "FBr5-cW6cqKS",
        "outputId": "c547c82a-3517-4f12-a2b8-f2fc52e26c4b",
        "colab": {
          "base_uri": "https://localhost:8080/",
          "height": 203
        }
      },
      "source": [
        "final_data=data.drop(columns=['name','ticket', 'sibsp','parch', 'Prefix'])\n",
        "final_data.head()"
      ],
      "execution_count": 197,
      "outputs": [
        {
          "output_type": "execute_result",
          "data": {
            "text/html": [
              "<div>\n",
              "<style scoped>\n",
              "    .dataframe tbody tr th:only-of-type {\n",
              "        vertical-align: middle;\n",
              "    }\n",
              "\n",
              "    .dataframe tbody tr th {\n",
              "        vertical-align: top;\n",
              "    }\n",
              "\n",
              "    .dataframe thead th {\n",
              "        text-align: right;\n",
              "    }\n",
              "</style>\n",
              "<table border=\"1\" class=\"dataframe\">\n",
              "  <thead>\n",
              "    <tr style=\"text-align: right;\">\n",
              "      <th></th>\n",
              "      <th>survived</th>\n",
              "      <th>pclass</th>\n",
              "      <th>sex</th>\n",
              "      <th>age</th>\n",
              "      <th>fare</th>\n",
              "      <th>embarked</th>\n",
              "      <th>Level</th>\n",
              "      <th>Fam</th>\n",
              "      <th>marital status</th>\n",
              "    </tr>\n",
              "  </thead>\n",
              "  <tbody>\n",
              "    <tr>\n",
              "      <th>0</th>\n",
              "      <td>0</td>\n",
              "      <td>3</td>\n",
              "      <td>male</td>\n",
              "      <td>22.0</td>\n",
              "      <td>7.2500</td>\n",
              "      <td>S</td>\n",
              "      <td>C</td>\n",
              "      <td>1</td>\n",
              "      <td>Married</td>\n",
              "    </tr>\n",
              "    <tr>\n",
              "      <th>1</th>\n",
              "      <td>1</td>\n",
              "      <td>1</td>\n",
              "      <td>female</td>\n",
              "      <td>38.0</td>\n",
              "      <td>71.2833</td>\n",
              "      <td>C</td>\n",
              "      <td>C</td>\n",
              "      <td>1</td>\n",
              "      <td>Married</td>\n",
              "    </tr>\n",
              "    <tr>\n",
              "      <th>2</th>\n",
              "      <td>1</td>\n",
              "      <td>3</td>\n",
              "      <td>female</td>\n",
              "      <td>26.0</td>\n",
              "      <td>7.9250</td>\n",
              "      <td>S</td>\n",
              "      <td>C</td>\n",
              "      <td>0</td>\n",
              "      <td>Unmarried</td>\n",
              "    </tr>\n",
              "    <tr>\n",
              "      <th>3</th>\n",
              "      <td>1</td>\n",
              "      <td>1</td>\n",
              "      <td>female</td>\n",
              "      <td>35.0</td>\n",
              "      <td>53.1000</td>\n",
              "      <td>S</td>\n",
              "      <td>C</td>\n",
              "      <td>1</td>\n",
              "      <td>Married</td>\n",
              "    </tr>\n",
              "    <tr>\n",
              "      <th>4</th>\n",
              "      <td>0</td>\n",
              "      <td>3</td>\n",
              "      <td>male</td>\n",
              "      <td>35.0</td>\n",
              "      <td>8.0500</td>\n",
              "      <td>S</td>\n",
              "      <td>C</td>\n",
              "      <td>0</td>\n",
              "      <td>Married</td>\n",
              "    </tr>\n",
              "  </tbody>\n",
              "</table>\n",
              "</div>"
            ],
            "text/plain": [
              "   survived  pclass     sex   age     fare embarked Level  Fam marital status\n",
              "0         0       3    male  22.0   7.2500        S     C    1        Married\n",
              "1         1       1  female  38.0  71.2833        C     C    1        Married\n",
              "2         1       3  female  26.0   7.9250        S     C    0      Unmarried\n",
              "3         1       1  female  35.0  53.1000        S     C    1        Married\n",
              "4         0       3    male  35.0   8.0500        S     C    0        Married"
            ]
          },
          "metadata": {
            "tags": []
          },
          "execution_count": 197
        }
      ]
    },
    {
      "cell_type": "code",
      "metadata": {
        "id": "J-HCajoRdNNq"
      },
      "source": [
        "X=final_data.drop(columns=['survived'])\n",
        "Y=final_data['survived']"
      ],
      "execution_count": 198,
      "outputs": []
    },
    {
      "cell_type": "code",
      "metadata": {
        "id": "rtq255UFdtW_",
        "outputId": "0a7116b5-5e1a-4bca-a8d7-c056e4bf3386",
        "colab": {
          "base_uri": "https://localhost:8080/",
          "height": 595
        }
      },
      "source": [
        "sns.heatmap(X.corr(),annot=True,linewidths=0.2,annot_kws={'size':8})\n",
        "fig=plt.gcf()\n",
        "fig.set_size_inches(10,10)\n",
        "plt.xticks(fontsize=10)\n",
        "plt.yticks(fontsize=10)\n",
        "plt.show()"
      ],
      "execution_count": 199,
      "outputs": [
        {
          "output_type": "display_data",
          "data": {
            "image/png": "[encoded data removed]",
            "text/plain": [
              "<Figure size 720x720 with 2 Axes>"
            ]
          },
          "metadata": {
            "tags": [],
            "needs_background": "light"
          }
        }
      ]
    },
    {
      "cell_type": "code",
      "metadata": {
        "id": "ID4wyz0reR4R"
      },
      "source": [
        "X_cat = pd.get_dummies(X, columns = [\"sex\", \"embarked\", \"Level\", \"marital status\"],\n",
        "                             prefix=[\"sex\", \"embarked\", \"Level\", \"marital status\"])\n",
        "Y = pd.get_dummies(Y, columns = ['survived'], prefix = ['survived'])"
      ],
      "execution_count": 200,
      "outputs": []
    },
    {
      "cell_type": "code",
      "metadata": {
        "id": "uOZFLvgWeqgg",
        "outputId": "61e658a8-0c0d-4955-985c-ec192ae41f5a",
        "colab": {
          "base_uri": "https://localhost:8080/",
          "height": 257
        }
      },
      "source": [
        "print(Y.shape)\n",
        "X_cat.head()\n"
      ],
      "execution_count": 201,
      "outputs": [
        {
          "output_type": "stream",
          "text": [
            "(714, 2)\n"
          ],
          "name": "stdout"
        },
        {
          "output_type": "execute_result",
          "data": {
            "text/html": [
              "<div>\n",
              "<style scoped>\n",
              "    .dataframe tbody tr th:only-of-type {\n",
              "        vertical-align: middle;\n",
              "    }\n",
              "\n",
              "    .dataframe tbody tr th {\n",
              "        vertical-align: top;\n",
              "    }\n",
              "\n",
              "    .dataframe thead th {\n",
              "        text-align: right;\n",
              "    }\n",
              "</style>\n",
              "<table border=\"1\" class=\"dataframe\">\n",
              "  <thead>\n",
              "    <tr style=\"text-align: right;\">\n",
              "      <th></th>\n",
              "      <th>pclass</th>\n",
              "      <th>age</th>\n",
              "      <th>fare</th>\n",
              "      <th>Fam</th>\n",
              "      <th>sex_female</th>\n",
              "      <th>sex_male</th>\n",
              "      <th>embarked_C</th>\n",
              "      <th>embarked_Q</th>\n",
              "      <th>embarked_S</th>\n",
              "      <th>Level_A</th>\n",
              "      <th>Level_B</th>\n",
              "      <th>Level_C</th>\n",
              "      <th>Level_D</th>\n",
              "      <th>Level_E</th>\n",
              "      <th>Level_F</th>\n",
              "      <th>Level_G</th>\n",
              "      <th>Level_T</th>\n",
              "      <th>marital status_Married</th>\n",
              "      <th>marital status_Unmarried</th>\n",
              "    </tr>\n",
              "  </thead>\n",
              "  <tbody>\n",
              "    <tr>\n",
              "      <th>0</th>\n",
              "      <td>3</td>\n",
              "      <td>22.0</td>\n",
              "      <td>7.2500</td>\n",
              "      <td>1</td>\n",
              "      <td>0</td>\n",
              "      <td>1</td>\n",
              "      <td>0</td>\n",
              "      <td>0</td>\n",
              "      <td>1</td>\n",
              "      <td>0</td>\n",
              "      <td>0</td>\n",
              "      <td>1</td>\n",
              "      <td>0</td>\n",
              "      <td>0</td>\n",
              "      <td>0</td>\n",
              "      <td>0</td>\n",
              "      <td>0</td>\n",
              "      <td>1</td>\n",
              "      <td>0</td>\n",
              "    </tr>\n",
              "    <tr>\n",
              "      <th>1</th>\n",
              "      <td>1</td>\n",
              "      <td>38.0</td>\n",
              "      <td>71.2833</td>\n",
              "      <td>1</td>\n",
              "      <td>1</td>\n",
              "      <td>0</td>\n",
              "      <td>1</td>\n",
              "      <td>0</td>\n",
              "      <td>0</td>\n",
              "      <td>0</td>\n",
              "      <td>0</td>\n",
              "      <td>1</td>\n",
              "      <td>0</td>\n",
              "      <td>0</td>\n",
              "      <td>0</td>\n",
              "      <td>0</td>\n",
              "      <td>0</td>\n",
              "      <td>1</td>\n",
              "      <td>0</td>\n",
              "    </tr>\n",
              "    <tr>\n",
              "      <th>2</th>\n",
              "      <td>3</td>\n",
              "      <td>26.0</td>\n",
              "      <td>7.9250</td>\n",
              "      <td>0</td>\n",
              "      <td>1</td>\n",
              "      <td>0</td>\n",
              "      <td>0</td>\n",
              "      <td>0</td>\n",
              "      <td>1</td>\n",
              "      <td>0</td>\n",
              "      <td>0</td>\n",
              "      <td>1</td>\n",
              "      <td>0</td>\n",
              "      <td>0</td>\n",
              "      <td>0</td>\n",
              "      <td>0</td>\n",
              "      <td>0</td>\n",
              "      <td>0</td>\n",
              "      <td>1</td>\n",
              "    </tr>\n",
              "    <tr>\n",
              "      <th>3</th>\n",
              "      <td>1</td>\n",
              "      <td>35.0</td>\n",
              "      <td>53.1000</td>\n",
              "      <td>1</td>\n",
              "      <td>1</td>\n",
              "      <td>0</td>\n",
              "      <td>0</td>\n",
              "      <td>0</td>\n",
              "      <td>1</td>\n",
              "      <td>0</td>\n",
              "      <td>0</td>\n",
              "      <td>1</td>\n",
              "      <td>0</td>\n",
              "      <td>0</td>\n",
              "      <td>0</td>\n",
              "      <td>0</td>\n",
              "      <td>0</td>\n",
              "      <td>1</td>\n",
              "      <td>0</td>\n",
              "    </tr>\n",
              "    <tr>\n",
              "      <th>4</th>\n",
              "      <td>3</td>\n",
              "      <td>35.0</td>\n",
              "      <td>8.0500</td>\n",
              "      <td>0</td>\n",
              "      <td>0</td>\n",
              "      <td>1</td>\n",
              "      <td>0</td>\n",
              "      <td>0</td>\n",
              "      <td>1</td>\n",
              "      <td>0</td>\n",
              "      <td>0</td>\n",
              "      <td>1</td>\n",
              "      <td>0</td>\n",
              "      <td>0</td>\n",
              "      <td>0</td>\n",
              "      <td>0</td>\n",
              "      <td>0</td>\n",
              "      <td>1</td>\n",
              "      <td>0</td>\n",
              "    </tr>\n",
              "  </tbody>\n",
              "</table>\n",
              "</div>"
            ],
            "text/plain": [
              "   pclass   age  ...  marital status_Married  marital status_Unmarried\n",
              "0       3  22.0  ...                       1                         0\n",
              "1       1  38.0  ...                       1                         0\n",
              "2       3  26.0  ...                       0                         1\n",
              "3       1  35.0  ...                       1                         0\n",
              "4       3  35.0  ...                       1                         0\n",
              "\n",
              "[5 rows x 19 columns]"
            ]
          },
          "metadata": {
            "tags": []
          },
          "execution_count": 201
        }
      ]
    },
    {
      "cell_type": "code",
      "metadata": {
        "id": "lhv8AnBthVNa"
      },
      "source": [
        "X_cat = X_cat.to_numpy()\n",
        "Y = Y.to_numpy()"
      ],
      "execution_count": 202,
      "outputs": []
    },
    {
      "cell_type": "code",
      "metadata": {
        "id": "zJgGEoUWfi3p"
      },
      "source": [
        "x_train,x_test,y_train,y_test=train_test_split(X_cat, Y,test_size=0.1,random_state=123)"
      ],
      "execution_count": 203,
      "outputs": []
    },
    {
      "cell_type": "code",
      "metadata": {
        "id": "fZNud4IOu7RK"
      },
      "source": [
        "def sigmoid(s):\n",
        "    return 1/(1 + np.exp(-s))\n",
        "\n",
        "def sigmoid_derv(s):\n",
        "    return s * (1 - s)\n",
        "\n",
        "def tanh(x):\n",
        "    return np.tanh(x);\n",
        "\n",
        "def tanh_prime(x):\n",
        "    return 1-np.tanh(x)**2;\n",
        "\n",
        "def softmax(s):\n",
        "    exps = np.exp(s - np.max(s, axis=1, keepdims=True))\n",
        "    return exps/np.sum(exps, axis=1, keepdims=True)\n",
        "\n",
        "def cross_entropy(pred, real):\n",
        "    n_samples = real.shape[0]\n",
        "    res = pred - real\n",
        "    return res/n_samples\n",
        "\n",
        "def error(pred, real):\n",
        "    n_samples = real.shape[0]\n",
        "    logp = - np.log(pred[np.arange(n_samples), real.argmax(axis=1)])\n",
        "    loss = np.sum(logp)/n_samples\n",
        "    return loss\n",
        "\n",
        "class MyNN:\n",
        "    def __init__(self, x, y, lr):\n",
        "        self.x = x\n",
        "        neurons = 128\n",
        "        self.lr = lr\n",
        "        ip_dim = x.shape[1]\n",
        "        op_dim = 2\n",
        "\n",
        "        self.w1 = np.random.randn(ip_dim, neurons)\n",
        "        self.b1 = np.zeros((1, neurons))\n",
        "        self.w2 = np.random.randn(neurons, neurons)\n",
        "        self.b2 = np.zeros((1, neurons))\n",
        "        self.w3 = np.random.randn(neurons, op_dim)\n",
        "        self.b3 = np.zeros((1, op_dim))\n",
        "        self.y = y\n",
        "        self.loss=0\n",
        "    def feedforward(self):\n",
        "        z1 = np.dot(self.x, self.w1) + self.b1\n",
        "        self.a1 = tanh(z1)\n",
        "        z2 = np.dot(self.a1, self.w2) + self.b2\n",
        "        self.a2 = tanh(z2)\n",
        "        z3 = np.dot(self.a2, self.w3) + self.b3\n",
        "        self.a3 = softmax(z3)\n",
        "        \n",
        "    def backprop(self):\n",
        "        self.loss = error(self.a3, self.y)\n",
        "        # print('Error :', loss)\n",
        "        a3_delta = cross_entropy(self.a3, self.y) # w3\n",
        "        z2_delta = np.dot(a3_delta, self.w3.T)\n",
        "        a2_delta = z2_delta * tanh_prime(self.a2) # w2\n",
        "        z1_delta = np.dot(a2_delta, self.w2.T)\n",
        "        a1_delta = z1_delta * tanh_prime(self.a1) # w1\n",
        "\n",
        "        self.w3 = self.w3-self.lr * np.dot(self.a2.T, a3_delta)\n",
        "        self.b3 = self.b3-self.lr * np.sum(a3_delta, axis=0, keepdims=True)\n",
        "        self.w2 = self.w2-self.lr * np.dot(self.a1.T, a2_delta)\n",
        "        self.b2 = self.b2-self.lr * np.sum(a2_delta, axis=0)\n",
        "        self.w1 = self.w1-self.lr * np.dot(self.x.T, a1_delta)\n",
        "        self.b1 = self.b1-self.lr * np.sum(a1_delta, axis=0)\n",
        "\n",
        "    def predict(self, data):\n",
        "        self.x = data\n",
        "        self.feedforward()\n",
        "        return self.a3.argmax()\n"
      ],
      "execution_count": 216,
      "outputs": []
    },
    {
      "cell_type": "code",
      "metadata": {
        "id": "l6xuEF2cdsWM",
        "outputId": "89912aab-bb9b-492e-d484-84b1b2b34d46",
        "colab": {
          "base_uri": "https://localhost:8080/"
        }
      },
      "source": [
        "lr = 0.0001\n",
        "model = MyNN(x_train, y_train, lr)\n",
        "\n",
        "epochs = 20000\n",
        "cost = []\n",
        "\n",
        "for x in range(epochs):\n",
        "    model.feedforward()\n",
        "    cost.append(model.loss)\n",
        "    if x%1000==0:\n",
        "      print(f'{x:5d}\\t{model.loss}')\n",
        "    model.backprop()\n",
        "\t\t\n",
        "def get_acc(x, y):\n",
        "    acc = 0\n",
        "    for xx,yy in zip(x, y):\n",
        "        s = model.predict(xx)\n",
        "        if s == np.argmax(yy):\n",
        "            acc=acc+1\n",
        "    return acc/len(x)*100\n",
        "\t\n",
        "print(\"Training accuracy : \", get_acc(x_train, y_train))\n",
        "# print(\"Test accuracy : \", get_acc(x_val/16, np.array(y_val)))\n"
      ],
      "execution_count": 231,
      "outputs": [
        {
          "output_type": "stream",
          "text": [
            "    0\t0\n",
            " 1000\t1.409080530437767\n",
            " 2000\t1.1660174200635318\n",
            " 3000\t1.0118741677912482\n",
            " 4000\t0.9361690416238055\n",
            " 5000\t0.8999408331133563\n",
            " 6000\t1.1463573872315571\n",
            " 7000\t1.0478847838005574\n",
            " 8000\t0.9685921214844906\n",
            " 9000\t0.959169642777198\n",
            "10000\t0.999784488728246\n",
            "11000\t0.9558756498653926\n",
            "12000\t0.7962387075782171\n",
            "13000\t0.8263911898870023\n",
            "14000\t0.8509759124257417\n",
            "15000\t0.8239796440894538\n",
            "16000\t0.822150914558801\n",
            "17000\t0.8460447499998943\n",
            "18000\t0.9393140180400693\n",
            "19000\t0.9442591276888141\n",
            "Training accuracy :  76.63551401869158\n"
          ],
          "name": "stdout"
        }
      ]
    },
    {
      "cell_type": "code",
      "metadata": {
        "id": "eqgG-pDhjx6U",
        "outputId": "5a8274b9-feed-45e2-e708-e7677baabb14",
        "colab": {
          "base_uri": "https://localhost:8080/"
        }
      },
      "source": [
        "print(\"Test accuracy : \", get_acc(x_test, y_test))"
      ],
      "execution_count": 232,
      "outputs": [
        {
          "output_type": "stream",
          "text": [
            "Test accuracy :  68.05555555555556\n"
          ],
          "name": "stdout"
        }
      ]
    },
    {
      "cell_type": "code",
      "metadata": {
        "id": "jgZEPXVjrGzd"
      },
      "source": [
        ""
      ],
      "execution_count": null,
      "outputs": []
    }
  ]
}