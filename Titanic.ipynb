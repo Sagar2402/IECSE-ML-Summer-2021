{
  "nbformat": 4,
  "nbformat_minor": 0,
  "metadata": {
    "colab": {
      "name": "Titanic.ipynb",
      "provenance": [],
      "collapsed_sections": []
    },
    "kernelspec": {
      "name": "python3",
      "display_name": "Python 3"
    },
    "language_info": {
      "name": "python"
    }
  },
  "cells": [
    {
      "cell_type": "code",
      "metadata": {
        "id": "atB4xkoOwhdX"
      },
      "source": [
        "# importing libraries\n",
        "import numpy as np\n",
        "import pandas as pd\n",
        "import seaborn as sns\n",
        "import tensorflow as tf\n",
        "import scipy"
      ],
      "execution_count": 1,
      "outputs": []
    },
    {
      "cell_type": "code",
      "metadata": {
        "id": "KsSfxd6GwwxS"
      },
      "source": [
        "df = pd.read_csv('titanic.csv')"
      ],
      "execution_count": 2,
      "outputs": []
    },
    {
      "cell_type": "code",
      "metadata": {
        "colab": {
          "base_uri": "https://localhost:8080/",
          "height": 203
        },
        "id": "mU6OiMOmw4-R",
        "outputId": "b0068910-0492-40e4-d7f6-6eab93300e11"
      },
      "source": [
        "df.head()"
      ],
      "execution_count": 3,
      "outputs": [
        {
          "output_type": "execute_result",
          "data": {
            "text/html": [
              "<div>\n",
              "<style scoped>\n",
              "    .dataframe tbody tr th:only-of-type {\n",
              "        vertical-align: middle;\n",
              "    }\n",
              "\n",
              "    .dataframe tbody tr th {\n",
              "        vertical-align: top;\n",
              "    }\n",
              "\n",
              "    .dataframe thead th {\n",
              "        text-align: right;\n",
              "    }\n",
              "</style>\n",
              "<table border=\"1\" class=\"dataframe\">\n",
              "  <thead>\n",
              "    <tr style=\"text-align: right;\">\n",
              "      <th></th>\n",
              "      <th>survived</th>\n",
              "      <th>pclass</th>\n",
              "      <th>name</th>\n",
              "      <th>sex</th>\n",
              "      <th>age</th>\n",
              "      <th>sibsp</th>\n",
              "      <th>parch</th>\n",
              "      <th>ticket</th>\n",
              "      <th>fare</th>\n",
              "      <th>cabin</th>\n",
              "      <th>embarked</th>\n",
              "    </tr>\n",
              "  </thead>\n",
              "  <tbody>\n",
              "    <tr>\n",
              "      <th>0</th>\n",
              "      <td>0</td>\n",
              "      <td>3</td>\n",
              "      <td>Braund, Mr. Owen Harris</td>\n",
              "      <td>male</td>\n",
              "      <td>22.0</td>\n",
              "      <td>1</td>\n",
              "      <td>0</td>\n",
              "      <td>A/5 21171</td>\n",
              "      <td>7.2500</td>\n",
              "      <td>NaN</td>\n",
              "      <td>S</td>\n",
              "    </tr>\n",
              "    <tr>\n",
              "      <th>1</th>\n",
              "      <td>1</td>\n",
              "      <td>1</td>\n",
              "      <td>Cumings, Mrs. John Bradley (Florence Briggs Th...</td>\n",
              "      <td>female</td>\n",
              "      <td>38.0</td>\n",
              "      <td>1</td>\n",
              "      <td>0</td>\n",
              "      <td>PC 17599</td>\n",
              "      <td>71.2833</td>\n",
              "      <td>C85</td>\n",
              "      <td>C</td>\n",
              "    </tr>\n",
              "    <tr>\n",
              "      <th>2</th>\n",
              "      <td>1</td>\n",
              "      <td>3</td>\n",
              "      <td>Heikkinen, Miss. Laina</td>\n",
              "      <td>female</td>\n",
              "      <td>26.0</td>\n",
              "      <td>0</td>\n",
              "      <td>0</td>\n",
              "      <td>STON/O2. 3101282</td>\n",
              "      <td>7.9250</td>\n",
              "      <td>NaN</td>\n",
              "      <td>S</td>\n",
              "    </tr>\n",
              "    <tr>\n",
              "      <th>3</th>\n",
              "      <td>1</td>\n",
              "      <td>1</td>\n",
              "      <td>Futrelle, Mrs. Jacques Heath (Lily May Peel)</td>\n",
              "      <td>female</td>\n",
              "      <td>35.0</td>\n",
              "      <td>1</td>\n",
              "      <td>0</td>\n",
              "      <td>113803</td>\n",
              "      <td>53.1000</td>\n",
              "      <td>C123</td>\n",
              "      <td>S</td>\n",
              "    </tr>\n",
              "    <tr>\n",
              "      <th>4</th>\n",
              "      <td>0</td>\n",
              "      <td>3</td>\n",
              "      <td>Allen, Mr. William Henry</td>\n",
              "      <td>male</td>\n",
              "      <td>35.0</td>\n",
              "      <td>0</td>\n",
              "      <td>0</td>\n",
              "      <td>373450</td>\n",
              "      <td>8.0500</td>\n",
              "      <td>NaN</td>\n",
              "      <td>S</td>\n",
              "    </tr>\n",
              "  </tbody>\n",
              "</table>\n",
              "</div>"
            ],
            "text/plain": [
              "   survived  pclass  ... cabin embarked\n",
              "0         0       3  ...   NaN        S\n",
              "1         1       1  ...   C85        C\n",
              "2         1       3  ...   NaN        S\n",
              "3         1       1  ...  C123        S\n",
              "4         0       3  ...   NaN        S\n",
              "\n",
              "[5 rows x 11 columns]"
            ]
          },
          "metadata": {
            "tags": []
          },
          "execution_count": 3
        }
      ]
    },
    {
      "cell_type": "code",
      "metadata": {
        "colab": {
          "base_uri": "https://localhost:8080/"
        },
        "id": "dNMBuFGzw6oi",
        "outputId": "787349f4-de8e-4a36-df01-7f0ba2843ede"
      },
      "source": [
        "df.shape"
      ],
      "execution_count": 4,
      "outputs": [
        {
          "output_type": "execute_result",
          "data": {
            "text/plain": [
              "(891, 11)"
            ]
          },
          "metadata": {
            "tags": []
          },
          "execution_count": 4
        }
      ]
    },
    {
      "cell_type": "code",
      "metadata": {
        "colab": {
          "base_uri": "https://localhost:8080/"
        },
        "id": "tFJZYjyww6tt",
        "outputId": "25bb5c94-47f0-4ecc-dac9-429305badd45"
      },
      "source": [
        "df.columns"
      ],
      "execution_count": 5,
      "outputs": [
        {
          "output_type": "execute_result",
          "data": {
            "text/plain": [
              "Index(['survived', 'pclass', 'name', 'sex', 'age', 'sibsp', 'parch', 'ticket',\n",
              "       'fare', 'cabin', 'embarked'],\n",
              "      dtype='object')"
            ]
          },
          "metadata": {
            "tags": []
          },
          "execution_count": 5
        }
      ]
    },
    {
      "cell_type": "code",
      "metadata": {
        "colab": {
          "base_uri": "https://localhost:8080/",
          "height": 295
        },
        "id": "QNTZhDGGxiHG",
        "outputId": "efcf2455-20a7-4d9a-d9f5-789f6f30f8a9"
      },
      "source": [
        "df.describe()"
      ],
      "execution_count": 6,
      "outputs": [
        {
          "output_type": "execute_result",
          "data": {
            "text/html": [
              "<div>\n",
              "<style scoped>\n",
              "    .dataframe tbody tr th:only-of-type {\n",
              "        vertical-align: middle;\n",
              "    }\n",
              "\n",
              "    .dataframe tbody tr th {\n",
              "        vertical-align: top;\n",
              "    }\n",
              "\n",
              "    .dataframe thead th {\n",
              "        text-align: right;\n",
              "    }\n",
              "</style>\n",
              "<table border=\"1\" class=\"dataframe\">\n",
              "  <thead>\n",
              "    <tr style=\"text-align: right;\">\n",
              "      <th></th>\n",
              "      <th>survived</th>\n",
              "      <th>pclass</th>\n",
              "      <th>age</th>\n",
              "      <th>sibsp</th>\n",
              "      <th>parch</th>\n",
              "      <th>fare</th>\n",
              "    </tr>\n",
              "  </thead>\n",
              "  <tbody>\n",
              "    <tr>\n",
              "      <th>count</th>\n",
              "      <td>891.000000</td>\n",
              "      <td>891.000000</td>\n",
              "      <td>714.000000</td>\n",
              "      <td>891.000000</td>\n",
              "      <td>891.000000</td>\n",
              "      <td>891.000000</td>\n",
              "    </tr>\n",
              "    <tr>\n",
              "      <th>mean</th>\n",
              "      <td>0.383838</td>\n",
              "      <td>2.308642</td>\n",
              "      <td>29.699118</td>\n",
              "      <td>0.523008</td>\n",
              "      <td>0.381594</td>\n",
              "      <td>32.204208</td>\n",
              "    </tr>\n",
              "    <tr>\n",
              "      <th>std</th>\n",
              "      <td>0.486592</td>\n",
              "      <td>0.836071</td>\n",
              "      <td>14.526497</td>\n",
              "      <td>1.102743</td>\n",
              "      <td>0.806057</td>\n",
              "      <td>49.693429</td>\n",
              "    </tr>\n",
              "    <tr>\n",
              "      <th>min</th>\n",
              "      <td>0.000000</td>\n",
              "      <td>1.000000</td>\n",
              "      <td>0.420000</td>\n",
              "      <td>0.000000</td>\n",
              "      <td>0.000000</td>\n",
              "      <td>0.000000</td>\n",
              "    </tr>\n",
              "    <tr>\n",
              "      <th>25%</th>\n",
              "      <td>0.000000</td>\n",
              "      <td>2.000000</td>\n",
              "      <td>20.125000</td>\n",
              "      <td>0.000000</td>\n",
              "      <td>0.000000</td>\n",
              "      <td>7.910400</td>\n",
              "    </tr>\n",
              "    <tr>\n",
              "      <th>50%</th>\n",
              "      <td>0.000000</td>\n",
              "      <td>3.000000</td>\n",
              "      <td>28.000000</td>\n",
              "      <td>0.000000</td>\n",
              "      <td>0.000000</td>\n",
              "      <td>14.454200</td>\n",
              "    </tr>\n",
              "    <tr>\n",
              "      <th>75%</th>\n",
              "      <td>1.000000</td>\n",
              "      <td>3.000000</td>\n",
              "      <td>38.000000</td>\n",
              "      <td>1.000000</td>\n",
              "      <td>0.000000</td>\n",
              "      <td>31.000000</td>\n",
              "    </tr>\n",
              "    <tr>\n",
              "      <th>max</th>\n",
              "      <td>1.000000</td>\n",
              "      <td>3.000000</td>\n",
              "      <td>80.000000</td>\n",
              "      <td>8.000000</td>\n",
              "      <td>6.000000</td>\n",
              "      <td>512.329200</td>\n",
              "    </tr>\n",
              "  </tbody>\n",
              "</table>\n",
              "</div>"
            ],
            "text/plain": [
              "         survived      pclass         age       sibsp       parch        fare\n",
              "count  891.000000  891.000000  714.000000  891.000000  891.000000  891.000000\n",
              "mean     0.383838    2.308642   29.699118    0.523008    0.381594   32.204208\n",
              "std      0.486592    0.836071   14.526497    1.102743    0.806057   49.693429\n",
              "min      0.000000    1.000000    0.420000    0.000000    0.000000    0.000000\n",
              "25%      0.000000    2.000000   20.125000    0.000000    0.000000    7.910400\n",
              "50%      0.000000    3.000000   28.000000    0.000000    0.000000   14.454200\n",
              "75%      1.000000    3.000000   38.000000    1.000000    0.000000   31.000000\n",
              "max      1.000000    3.000000   80.000000    8.000000    6.000000  512.329200"
            ]
          },
          "metadata": {
            "tags": []
          },
          "execution_count": 6
        }
      ]
    },
    {
      "cell_type": "code",
      "metadata": {
        "colab": {
          "base_uri": "https://localhost:8080/",
          "height": 296
        },
        "id": "nknIA2VxyJxa",
        "outputId": "63a0d83c-54a1-457f-dc34-bfac163bb346"
      },
      "source": [
        "# gaining insights\n",
        "sns.countplot(x=df['survived'], hue=df['pclass'])"
      ],
      "execution_count": 7,
      "outputs": [
        {
          "output_type": "execute_result",
          "data": {
            "text/plain": [
              "<matplotlib.axes._subplots.AxesSubplot at 0x7f870f153a50>"
            ]
          },
          "metadata": {
            "tags": []
          },
          "execution_count": 7
        },
        {
          "output_type": "display_data",
          "data": {
            "image/png": "[encoded data removed]",
            "text/plain": [
              "<Figure size 432x288 with 1 Axes>"
            ]
          },
          "metadata": {
            "tags": [],
            "needs_background": "light"
          }
        }
      ]
    },
    {
      "cell_type": "code",
      "metadata": {
        "colab": {
          "base_uri": "https://localhost:8080/",
          "height": 296
        },
        "id": "vvUPvd7BzYOb",
        "outputId": "10efb457-a880-459d-9f2e-387310ad87e5"
      },
      "source": [
        "# gaining insights\n",
        "sns.countplot(x=df['survived'], hue =df['sex'])"
      ],
      "execution_count": 8,
      "outputs": [
        {
          "output_type": "execute_result",
          "data": {
            "text/plain": [
              "<matplotlib.axes._subplots.AxesSubplot at 0x7f870f049210>"
            ]
          },
          "metadata": {
            "tags": []
          },
          "execution_count": 8
        },
        {
          "output_type": "display_data",
          "data": {
            "image/png": "[encoded data removed]",
            "text/plain": [
              "<Figure size 432x288 with 1 Axes>"
            ]
          },
          "metadata": {
            "tags": [],
            "needs_background": "light"
          }
        }
      ]
    },
    {
      "cell_type": "code",
      "metadata": {
        "colab": {
          "base_uri": "https://localhost:8080/",
          "height": 326
        },
        "id": "-pdXQ-K1w94W",
        "outputId": "b2065399-3eda-4689-f259-eccd76a53d61"
      },
      "source": [
        "# checking null values\n",
        "sns.heatmap(df.isnull(), cmap='Blues')"
      ],
      "execution_count": 9,
      "outputs": [
        {
          "output_type": "execute_result",
          "data": {
            "text/plain": [
              "<matplotlib.axes._subplots.AxesSubplot at 0x7f870ebd9c10>"
            ]
          },
          "metadata": {
            "tags": []
          },
          "execution_count": 9
        },
        {
          "output_type": "display_data",
          "data": {
            "image/png": "[encoded data removed]",
            "text/plain": [
              "<Figure size 432x288 with 2 Axes>"
            ]
          },
          "metadata": {
            "tags": [],
            "needs_background": "light"
          }
        }
      ]
    },
    {
      "cell_type": "code",
      "metadata": {
        "colab": {
          "base_uri": "https://localhost:8080/",
          "height": 296
        },
        "id": "-Z13p0Ge1GTf",
        "outputId": "a6c87af6-86b7-4fff-fd98-60e15b30bf1b"
      },
      "source": [
        "sns.histplot(x=df['age'], hue=df['survived'])"
      ],
      "execution_count": 10,
      "outputs": [
        {
          "output_type": "execute_result",
          "data": {
            "text/plain": [
              "<matplotlib.axes._subplots.AxesSubplot at 0x7f87062c9e10>"
            ]
          },
          "metadata": {
            "tags": []
          },
          "execution_count": 10
        },
        {
          "output_type": "display_data",
          "data": {
            "image/png": "[encoded data removed]",
            "text/plain": [
              "<Figure size 432x288 with 1 Axes>"
            ]
          },
          "metadata": {
            "tags": [],
            "needs_background": "light"
          }
        }
      ]
    },
    {
      "cell_type": "code",
      "metadata": {
        "id": "23SZb6wWz-ub"
      },
      "source": [
        "# filling null values\n",
        "df['age'].fillna(value = np.median(df['age'].dropna()), inplace=True)"
      ],
      "execution_count": 11,
      "outputs": []
    },
    {
      "cell_type": "code",
      "metadata": {
        "id": "NEKlGEVv1V9w"
      },
      "source": [
        "# dropping columns\n",
        "df.drop(columns=['name','ticket','cabin'], inplace=True)"
      ],
      "execution_count": 12,
      "outputs": []
    },
    {
      "cell_type": "code",
      "metadata": {
        "id": "5bLB3pTb1qQ4"
      },
      "source": [
        "# encoding categorical feature\n",
        "df = pd.concat([df,pd.get_dummies(df['embarked'])], axis=1)\n",
        "df.drop(columns=['embarked'], inplace=True)"
      ],
      "execution_count": 13,
      "outputs": []
    },
    {
      "cell_type": "code",
      "metadata": {
        "id": "-Hlniugi4_hK"
      },
      "source": [
        "# encoding categorical feature\n",
        "df = pd.concat([df,pd.get_dummies(df['pclass'])], axis=1)\n",
        "df.drop(columns=['pclass'], inplace=True)"
      ],
      "execution_count": 14,
      "outputs": []
    },
    {
      "cell_type": "code",
      "metadata": {
        "id": "Fq4vr3wq2Pg4"
      },
      "source": [
        "# encoding categorical feature\n",
        "df = pd.concat([df,pd.get_dummies(df['sex'])], axis=1)\n",
        "df.drop(columns=['sex'], inplace=True)"
      ],
      "execution_count": 15,
      "outputs": []
    },
    {
      "cell_type": "code",
      "metadata": {
        "id": "v8GIfFM24dK9"
      },
      "source": [
        "# scaling age\n",
        "df['age']  = (df.age - np.median(df.age))/(scipy.stats.iqr(df.age))"
      ],
      "execution_count": 16,
      "outputs": []
    },
    {
      "cell_type": "code",
      "metadata": {
        "id": "DngO9mqg41AM"
      },
      "source": [
        "# scaling fare\n",
        "df['fare']  = (df.fare - np.median(df.fare))/(scipy.stats.iqr(df.fare))"
      ],
      "execution_count": 17,
      "outputs": []
    },
    {
      "cell_type": "code",
      "metadata": {
        "colab": {
          "base_uri": "https://localhost:8080/",
          "height": 203
        },
        "id": "H8s5Lti53X3X",
        "outputId": "fa859956-e7d9-4183-ba78-a3a5189b2288"
      },
      "source": [
        "df.head()"
      ],
      "execution_count": 18,
      "outputs": [
        {
          "output_type": "execute_result",
          "data": {
            "text/html": [
              "<div>\n",
              "<style scoped>\n",
              "    .dataframe tbody tr th:only-of-type {\n",
              "        vertical-align: middle;\n",
              "    }\n",
              "\n",
              "    .dataframe tbody tr th {\n",
              "        vertical-align: top;\n",
              "    }\n",
              "\n",
              "    .dataframe thead th {\n",
              "        text-align: right;\n",
              "    }\n",
              "</style>\n",
              "<table border=\"1\" class=\"dataframe\">\n",
              "  <thead>\n",
              "    <tr style=\"text-align: right;\">\n",
              "      <th></th>\n",
              "      <th>survived</th>\n",
              "      <th>age</th>\n",
              "      <th>sibsp</th>\n",
              "      <th>parch</th>\n",
              "      <th>fare</th>\n",
              "      <th>C</th>\n",
              "      <th>Q</th>\n",
              "      <th>S</th>\n",
              "      <th>1</th>\n",
              "      <th>2</th>\n",
              "      <th>3</th>\n",
              "      <th>female</th>\n",
              "      <th>male</th>\n",
              "    </tr>\n",
              "  </thead>\n",
              "  <tbody>\n",
              "    <tr>\n",
              "      <th>0</th>\n",
              "      <td>0</td>\n",
              "      <td>-0.461538</td>\n",
              "      <td>1</td>\n",
              "      <td>0</td>\n",
              "      <td>-0.312011</td>\n",
              "      <td>0</td>\n",
              "      <td>0</td>\n",
              "      <td>1</td>\n",
              "      <td>0</td>\n",
              "      <td>0</td>\n",
              "      <td>1</td>\n",
              "      <td>0</td>\n",
              "      <td>1</td>\n",
              "    </tr>\n",
              "    <tr>\n",
              "      <th>1</th>\n",
              "      <td>1</td>\n",
              "      <td>0.769231</td>\n",
              "      <td>1</td>\n",
              "      <td>0</td>\n",
              "      <td>2.461242</td>\n",
              "      <td>1</td>\n",
              "      <td>0</td>\n",
              "      <td>0</td>\n",
              "      <td>1</td>\n",
              "      <td>0</td>\n",
              "      <td>0</td>\n",
              "      <td>1</td>\n",
              "      <td>0</td>\n",
              "    </tr>\n",
              "    <tr>\n",
              "      <th>2</th>\n",
              "      <td>1</td>\n",
              "      <td>-0.153846</td>\n",
              "      <td>0</td>\n",
              "      <td>0</td>\n",
              "      <td>-0.282777</td>\n",
              "      <td>0</td>\n",
              "      <td>0</td>\n",
              "      <td>1</td>\n",
              "      <td>0</td>\n",
              "      <td>0</td>\n",
              "      <td>1</td>\n",
              "      <td>1</td>\n",
              "      <td>0</td>\n",
              "    </tr>\n",
              "    <tr>\n",
              "      <th>3</th>\n",
              "      <td>1</td>\n",
              "      <td>0.538462</td>\n",
              "      <td>1</td>\n",
              "      <td>0</td>\n",
              "      <td>1.673732</td>\n",
              "      <td>0</td>\n",
              "      <td>0</td>\n",
              "      <td>1</td>\n",
              "      <td>1</td>\n",
              "      <td>0</td>\n",
              "      <td>0</td>\n",
              "      <td>1</td>\n",
              "      <td>0</td>\n",
              "    </tr>\n",
              "    <tr>\n",
              "      <th>4</th>\n",
              "      <td>0</td>\n",
              "      <td>0.538462</td>\n",
              "      <td>0</td>\n",
              "      <td>0</td>\n",
              "      <td>-0.277363</td>\n",
              "      <td>0</td>\n",
              "      <td>0</td>\n",
              "      <td>1</td>\n",
              "      <td>0</td>\n",
              "      <td>0</td>\n",
              "      <td>1</td>\n",
              "      <td>0</td>\n",
              "      <td>1</td>\n",
              "    </tr>\n",
              "  </tbody>\n",
              "</table>\n",
              "</div>"
            ],
            "text/plain": [
              "   survived       age  sibsp  parch      fare  C  Q  S  1  2  3  female  male\n",
              "0         0 -0.461538      1      0 -0.312011  0  0  1  0  0  1       0     1\n",
              "1         1  0.769231      1      0  2.461242  1  0  0  1  0  0       1     0\n",
              "2         1 -0.153846      0      0 -0.282777  0  0  1  0  0  1       1     0\n",
              "3         1  0.538462      1      0  1.673732  0  0  1  1  0  0       1     0\n",
              "4         0  0.538462      0      0 -0.277363  0  0  1  0  0  1       0     1"
            ]
          },
          "metadata": {
            "tags": []
          },
          "execution_count": 18
        }
      ]
    },
    {
      "cell_type": "code",
      "metadata": {
        "id": "G9w9XSdo5foc"
      },
      "source": [
        "x = df.drop(columns=['survived'])\n",
        "y = df.survived"
      ],
      "execution_count": 19,
      "outputs": []
    },
    {
      "cell_type": "code",
      "metadata": {
        "id": "kg-6fL485p23"
      },
      "source": [
        "from sklearn.model_selection import train_test_split\n",
        "\n",
        "x_train, x_test, y_train, y_test = train_test_split(x,y, train_size=0.9, random_state=0)"
      ],
      "execution_count": 20,
      "outputs": []
    },
    {
      "cell_type": "code",
      "metadata": {
        "colab": {
          "base_uri": "https://localhost:8080/"
        },
        "id": "MEY-6ljAAJn1",
        "outputId": "43d90e8b-7c76-48c6-a9b9-f885a041cd82"
      },
      "source": [
        "x_train.shape"
      ],
      "execution_count": 21,
      "outputs": [
        {
          "output_type": "execute_result",
          "data": {
            "text/plain": [
              "(801, 12)"
            ]
          },
          "metadata": {
            "tags": []
          },
          "execution_count": 21
        }
      ]
    },
    {
      "cell_type": "code",
      "metadata": {
        "id": "jaTEHPvf6ZcG"
      },
      "source": [
        "# building model\n",
        "from keras.models import Sequential\n",
        "from keras.layers import Dense\n",
        "\n",
        "model = Sequential()\n",
        "\n",
        "model.add(Dense(10, input_dim=12, activation = 'relu'))\n",
        "model.add(Dense(7, activation = 'relu'))\n",
        "model.add(Dense(4, activation = 'sigmoid'))\n",
        "model.add(Dense(1, activation = 'sigmoid'))"
      ],
      "execution_count": 26,
      "outputs": []
    },
    {
      "cell_type": "code",
      "metadata": {
        "id": "ISTPzBM0AcJd"
      },
      "source": [
        "model.compile(loss='binary_crossentropy', optimizer='adam', metrics=['accuracy'])"
      ],
      "execution_count": 27,
      "outputs": []
    },
    {
      "cell_type": "code",
      "metadata": {
        "colab": {
          "base_uri": "https://localhost:8080/"
        },
        "id": "R1m3uyGuBaoO",
        "outputId": "58601b1e-928f-4a20-d8d1-80ff4ec16f64"
      },
      "source": [
        "model.fit(x_train, y_train, epochs=100, batch_size=9)"
      ],
      "execution_count": 28,
      "outputs": [
        {
          "output_type": "stream",
          "text": [
            "Epoch 1/100\n",
            "89/89 [==============================] - 1s 792us/step - loss: 0.6765 - accuracy: 0.5924\n",
            "Epoch 2/100\n",
            "89/89 [==============================] - 0s 886us/step - loss: 0.6470 - accuracy: 0.6418\n",
            "Epoch 3/100\n",
            "89/89 [==============================] - 0s 859us/step - loss: 0.6254 - accuracy: 0.6224\n",
            "Epoch 4/100\n",
            "89/89 [==============================] - 0s 827us/step - loss: 0.5791 - accuracy: 0.6982\n",
            "Epoch 5/100\n",
            "89/89 [==============================] - 0s 812us/step - loss: 0.5204 - accuracy: 0.8068\n",
            "Epoch 6/100\n",
            "89/89 [==============================] - 0s 912us/step - loss: 0.5217 - accuracy: 0.7916\n",
            "Epoch 7/100\n",
            "89/89 [==============================] - 0s 935us/step - loss: 0.5149 - accuracy: 0.7797\n",
            "Epoch 8/100\n",
            "89/89 [==============================] - 0s 874us/step - loss: 0.4752 - accuracy: 0.8307\n",
            "Epoch 9/100\n",
            "89/89 [==============================] - 0s 961us/step - loss: 0.4574 - accuracy: 0.8386\n",
            "Epoch 10/100\n",
            "89/89 [==============================] - 0s 890us/step - loss: 0.4639 - accuracy: 0.8160\n",
            "Epoch 11/100\n",
            "89/89 [==============================] - 0s 893us/step - loss: 0.4379 - accuracy: 0.8423\n",
            "Epoch 12/100\n",
            "89/89 [==============================] - 0s 907us/step - loss: 0.4468 - accuracy: 0.8241\n",
            "Epoch 13/100\n",
            "89/89 [==============================] - 0s 887us/step - loss: 0.4376 - accuracy: 0.8329\n",
            "Epoch 14/100\n",
            "89/89 [==============================] - 0s 956us/step - loss: 0.4605 - accuracy: 0.8134\n",
            "Epoch 15/100\n",
            "89/89 [==============================] - 0s 818us/step - loss: 0.4445 - accuracy: 0.8180\n",
            "Epoch 16/100\n",
            "89/89 [==============================] - 0s 850us/step - loss: 0.4240 - accuracy: 0.8378\n",
            "Epoch 17/100\n",
            "89/89 [==============================] - 0s 914us/step - loss: 0.4126 - accuracy: 0.8445\n",
            "Epoch 18/100\n",
            "89/89 [==============================] - 0s 868us/step - loss: 0.4192 - accuracy: 0.8395\n",
            "Epoch 19/100\n",
            "89/89 [==============================] - 0s 944us/step - loss: 0.4175 - accuracy: 0.8391\n",
            "Epoch 20/100\n",
            "89/89 [==============================] - 0s 870us/step - loss: 0.4008 - accuracy: 0.8568\n",
            "Epoch 21/100\n",
            "89/89 [==============================] - 0s 989us/step - loss: 0.4071 - accuracy: 0.8426\n",
            "Epoch 22/100\n",
            "89/89 [==============================] - 0s 955us/step - loss: 0.4351 - accuracy: 0.8290\n",
            "Epoch 23/100\n",
            "89/89 [==============================] - 0s 861us/step - loss: 0.3984 - accuracy: 0.8420\n",
            "Epoch 24/100\n",
            "89/89 [==============================] - 0s 1ms/step - loss: 0.3903 - accuracy: 0.8493\n",
            "Epoch 25/100\n",
            "89/89 [==============================] - 0s 1ms/step - loss: 0.4016 - accuracy: 0.8534\n",
            "Epoch 26/100\n",
            "89/89 [==============================] - 0s 953us/step - loss: 0.4290 - accuracy: 0.8326\n",
            "Epoch 27/100\n",
            "89/89 [==============================] - 0s 881us/step - loss: 0.4045 - accuracy: 0.8350\n",
            "Epoch 28/100\n",
            "89/89 [==============================] - 0s 891us/step - loss: 0.4162 - accuracy: 0.8385\n",
            "Epoch 29/100\n",
            "89/89 [==============================] - 0s 873us/step - loss: 0.4084 - accuracy: 0.8375\n",
            "Epoch 30/100\n",
            "89/89 [==============================] - 0s 942us/step - loss: 0.4047 - accuracy: 0.8494\n",
            "Epoch 31/100\n",
            "89/89 [==============================] - 0s 865us/step - loss: 0.4287 - accuracy: 0.8206\n",
            "Epoch 32/100\n",
            "89/89 [==============================] - 0s 983us/step - loss: 0.3808 - accuracy: 0.8535\n",
            "Epoch 33/100\n",
            "89/89 [==============================] - 0s 1ms/step - loss: 0.4070 - accuracy: 0.8324\n",
            "Epoch 34/100\n",
            "89/89 [==============================] - 0s 924us/step - loss: 0.3997 - accuracy: 0.8538\n",
            "Epoch 35/100\n",
            "89/89 [==============================] - 0s 910us/step - loss: 0.3823 - accuracy: 0.8545\n",
            "Epoch 36/100\n",
            "89/89 [==============================] - 0s 869us/step - loss: 0.4276 - accuracy: 0.8347\n",
            "Epoch 37/100\n",
            "89/89 [==============================] - 0s 1ms/step - loss: 0.3905 - accuracy: 0.8525\n",
            "Epoch 38/100\n",
            "89/89 [==============================] - 0s 887us/step - loss: 0.3963 - accuracy: 0.8502\n",
            "Epoch 39/100\n",
            "89/89 [==============================] - 0s 908us/step - loss: 0.3600 - accuracy: 0.8630\n",
            "Epoch 40/100\n",
            "89/89 [==============================] - 0s 857us/step - loss: 0.3988 - accuracy: 0.8392\n",
            "Epoch 41/100\n",
            "89/89 [==============================] - 0s 904us/step - loss: 0.4213 - accuracy: 0.8243\n",
            "Epoch 42/100\n",
            "89/89 [==============================] - 0s 911us/step - loss: 0.3998 - accuracy: 0.8402\n",
            "Epoch 43/100\n",
            "89/89 [==============================] - 0s 947us/step - loss: 0.3749 - accuracy: 0.8570\n",
            "Epoch 44/100\n",
            "89/89 [==============================] - 0s 860us/step - loss: 0.3915 - accuracy: 0.8385\n",
            "Epoch 45/100\n",
            "89/89 [==============================] - 0s 840us/step - loss: 0.4166 - accuracy: 0.8392\n",
            "Epoch 46/100\n",
            "89/89 [==============================] - 0s 894us/step - loss: 0.3963 - accuracy: 0.8383\n",
            "Epoch 47/100\n",
            "89/89 [==============================] - 0s 876us/step - loss: 0.4047 - accuracy: 0.8411\n",
            "Epoch 48/100\n",
            "89/89 [==============================] - 0s 987us/step - loss: 0.4062 - accuracy: 0.8464\n",
            "Epoch 49/100\n",
            "89/89 [==============================] - 0s 902us/step - loss: 0.3944 - accuracy: 0.8365\n",
            "Epoch 50/100\n",
            "89/89 [==============================] - 0s 863us/step - loss: 0.3871 - accuracy: 0.8541\n",
            "Epoch 51/100\n",
            "89/89 [==============================] - 0s 842us/step - loss: 0.3772 - accuracy: 0.8562\n",
            "Epoch 52/100\n",
            "89/89 [==============================] - 0s 920us/step - loss: 0.4058 - accuracy: 0.8296\n",
            "Epoch 53/100\n",
            "89/89 [==============================] - 0s 934us/step - loss: 0.3979 - accuracy: 0.8461\n",
            "Epoch 54/100\n",
            "89/89 [==============================] - 0s 916us/step - loss: 0.3745 - accuracy: 0.8620\n",
            "Epoch 55/100\n",
            "89/89 [==============================] - 0s 897us/step - loss: 0.3897 - accuracy: 0.8460\n",
            "Epoch 56/100\n",
            "89/89 [==============================] - 0s 923us/step - loss: 0.3825 - accuracy: 0.8438\n",
            "Epoch 57/100\n",
            "89/89 [==============================] - 0s 1ms/step - loss: 0.3713 - accuracy: 0.8535\n",
            "Epoch 58/100\n",
            "89/89 [==============================] - 0s 956us/step - loss: 0.4085 - accuracy: 0.8337\n",
            "Epoch 59/100\n",
            "89/89 [==============================] - 0s 947us/step - loss: 0.3762 - accuracy: 0.8516\n",
            "Epoch 60/100\n",
            "89/89 [==============================] - 0s 979us/step - loss: 0.3946 - accuracy: 0.8505\n",
            "Epoch 61/100\n",
            "89/89 [==============================] - 0s 914us/step - loss: 0.3859 - accuracy: 0.8503\n",
            "Epoch 62/100\n",
            "89/89 [==============================] - 0s 913us/step - loss: 0.4048 - accuracy: 0.8397\n",
            "Epoch 63/100\n",
            "89/89 [==============================] - 0s 898us/step - loss: 0.3753 - accuracy: 0.8550\n",
            "Epoch 64/100\n",
            "89/89 [==============================] - 0s 916us/step - loss: 0.4029 - accuracy: 0.8429\n",
            "Epoch 65/100\n",
            "89/89 [==============================] - 0s 904us/step - loss: 0.3784 - accuracy: 0.8527\n",
            "Epoch 66/100\n",
            "89/89 [==============================] - 0s 854us/step - loss: 0.3827 - accuracy: 0.8455\n",
            "Epoch 67/100\n",
            "89/89 [==============================] - 0s 869us/step - loss: 0.3794 - accuracy: 0.8575\n",
            "Epoch 68/100\n",
            "89/89 [==============================] - 0s 940us/step - loss: 0.3820 - accuracy: 0.8562\n",
            "Epoch 69/100\n",
            "89/89 [==============================] - 0s 901us/step - loss: 0.3770 - accuracy: 0.8616\n",
            "Epoch 70/100\n",
            "89/89 [==============================] - 0s 918us/step - loss: 0.3672 - accuracy: 0.8551\n",
            "Epoch 71/100\n",
            "89/89 [==============================] - 0s 887us/step - loss: 0.3692 - accuracy: 0.8549\n",
            "Epoch 72/100\n",
            "89/89 [==============================] - 0s 974us/step - loss: 0.3603 - accuracy: 0.8743\n",
            "Epoch 73/100\n",
            "89/89 [==============================] - 0s 960us/step - loss: 0.3972 - accuracy: 0.8421\n",
            "Epoch 74/100\n",
            "89/89 [==============================] - 0s 931us/step - loss: 0.3833 - accuracy: 0.8511\n",
            "Epoch 75/100\n",
            "89/89 [==============================] - 0s 990us/step - loss: 0.3905 - accuracy: 0.8492\n",
            "Epoch 76/100\n",
            "89/89 [==============================] - 0s 938us/step - loss: 0.4162 - accuracy: 0.8201\n",
            "Epoch 77/100\n",
            "89/89 [==============================] - 0s 915us/step - loss: 0.3864 - accuracy: 0.8518\n",
            "Epoch 78/100\n",
            "89/89 [==============================] - 0s 910us/step - loss: 0.3859 - accuracy: 0.8597\n",
            "Epoch 79/100\n",
            "89/89 [==============================] - 0s 880us/step - loss: 0.3995 - accuracy: 0.8419\n",
            "Epoch 80/100\n",
            "89/89 [==============================] - 0s 885us/step - loss: 0.4284 - accuracy: 0.8312\n",
            "Epoch 81/100\n",
            "89/89 [==============================] - 0s 1000us/step - loss: 0.3786 - accuracy: 0.8549\n",
            "Epoch 82/100\n",
            "89/89 [==============================] - 0s 870us/step - loss: 0.3749 - accuracy: 0.8578\n",
            "Epoch 83/100\n",
            "89/89 [==============================] - 0s 949us/step - loss: 0.3659 - accuracy: 0.8545\n",
            "Epoch 84/100\n",
            "89/89 [==============================] - 0s 941us/step - loss: 0.3859 - accuracy: 0.8380\n",
            "Epoch 85/100\n",
            "89/89 [==============================] - 0s 878us/step - loss: 0.3931 - accuracy: 0.8523\n",
            "Epoch 86/100\n",
            "89/89 [==============================] - 0s 958us/step - loss: 0.3950 - accuracy: 0.8406\n",
            "Epoch 87/100\n",
            "89/89 [==============================] - 0s 897us/step - loss: 0.4016 - accuracy: 0.8447\n",
            "Epoch 88/100\n",
            "89/89 [==============================] - 0s 910us/step - loss: 0.3773 - accuracy: 0.8506\n",
            "Epoch 89/100\n",
            "89/89 [==============================] - 0s 903us/step - loss: 0.3630 - accuracy: 0.8629\n",
            "Epoch 90/100\n",
            "89/89 [==============================] - 0s 879us/step - loss: 0.4169 - accuracy: 0.8263\n",
            "Epoch 91/100\n",
            "89/89 [==============================] - 0s 865us/step - loss: 0.3760 - accuracy: 0.8550\n",
            "Epoch 92/100\n",
            "89/89 [==============================] - 0s 878us/step - loss: 0.3846 - accuracy: 0.8468\n",
            "Epoch 93/100\n",
            "89/89 [==============================] - 0s 892us/step - loss: 0.4074 - accuracy: 0.8363\n",
            "Epoch 94/100\n",
            "89/89 [==============================] - 0s 947us/step - loss: 0.3914 - accuracy: 0.8443\n",
            "Epoch 95/100\n",
            "89/89 [==============================] - 0s 938us/step - loss: 0.3969 - accuracy: 0.8460\n",
            "Epoch 96/100\n",
            "89/89 [==============================] - 0s 878us/step - loss: 0.3662 - accuracy: 0.8653\n",
            "Epoch 97/100\n",
            "89/89 [==============================] - 0s 1ms/step - loss: 0.3821 - accuracy: 0.8498\n",
            "Epoch 98/100\n",
            "89/89 [==============================] - 0s 886us/step - loss: 0.3797 - accuracy: 0.8586\n",
            "Epoch 99/100\n",
            "89/89 [==============================] - 0s 888us/step - loss: 0.4067 - accuracy: 0.8320\n",
            "Epoch 100/100\n",
            "89/89 [==============================] - 0s 843us/step - loss: 0.4043 - accuracy: 0.8263\n"
          ],
          "name": "stdout"
        },
        {
          "output_type": "execute_result",
          "data": {
            "text/plain": [
              "<keras.callbacks.History at 0x7f8700109910>"
            ]
          },
          "metadata": {
            "tags": []
          },
          "execution_count": 28
        }
      ]
    },
    {
      "cell_type": "code",
      "metadata": {
        "colab": {
          "base_uri": "https://localhost:8080/"
        },
        "id": "Gs6u5kMbBvum",
        "outputId": "78a45f6b-d9e6-4e39-dfca-9ff360c0f459"
      },
      "source": [
        "model.evaluate(x_test, y_test)"
      ],
      "execution_count": 29,
      "outputs": [
        {
          "output_type": "stream",
          "text": [
            "3/3 [==============================] - 0s 2ms/step - loss: 0.3938 - accuracy: 0.8222\n"
          ],
          "name": "stdout"
        },
        {
          "output_type": "execute_result",
          "data": {
            "text/plain": [
              "[0.39380958676338196, 0.8222222328186035]"
            ]
          },
          "metadata": {
            "tags": []
          },
          "execution_count": 29
        }
      ]
    },
    {
      "cell_type": "markdown",
      "metadata": {
        "id": "omX_62rDAqsc"
      },
      "source": [
        "## Accuracy: 82.22%"
      ]
    }
  ]
}